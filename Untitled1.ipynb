{
  "nbformat": 4,
  "nbformat_minor": 0,
  "metadata": {
    "colab": {
      "provenance": []
    },
    "kernelspec": {
      "name": "python3",
      "display_name": "Python 3"
    },
    "language_info": {
      "name": "python"
    }
  },
  "cells": [
    {
      "cell_type": "code",
      "source": [
        "x = input(\"請輸入1到9的數字\")\n",
        "y = int(x)\n",
        "for i in range(1,y+1):\n",
        "  for j in range(1,y+1):\n",
        "    ans = i * j\n",
        "    print(f\"{i} x {j} = {ans}\")"
      ],
      "metadata": {
        "id": "YnMBgad9EUtC"
      },
      "execution_count": null,
      "outputs": []
    },
    {
      "cell_type": "code",
      "execution_count": null,
      "metadata": {
        "id": "JtgzMrN49DGk"
      },
      "outputs": [],
      "source": [
        "import random\n",
        "target_number = random.randint(1,100)\n",
        "\n",
        "print(\"歡迎參加猜數字遊戲!\")\n",
        "\n",
        "while True:\n",
        "  guess = input(\"請輸入數字: \")\n",
        "  n = int(guess)\n",
        "  if n > target_number:\n",
        "    print(\"數字太大了\")\n",
        "  elif n < target_number:\n",
        "    print(\"數字太小了\")\n",
        "  elif n == target_number:\n",
        "    print(\"恭喜猜中，答案是:\",target_number)\n",
        "    break\n",
        "\n",
        "\n",
        "print(\"遊戲結束\")"
      ]
    }
  ]
}